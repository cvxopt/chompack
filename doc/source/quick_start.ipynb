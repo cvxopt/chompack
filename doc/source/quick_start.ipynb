{
 "metadata": {
  "name": "",
  "signature": "sha256:c569fd9cfb180f58cbb26c6d98a68f24d8edb71ae027ea2995a4f8330cc99b12"
 },
 "nbformat": 3,
 "nbformat_minor": 0,
 "worksheets": [
  {
   "cells": [
    {
     "cell_type": "markdown",
     "metadata": {},
     "source": [
      "Quick start\n",
      "--------------"
     ]
    },
    {
     "cell_type": "raw",
     "metadata": {},
     "source": [
      "\n",
      "The core functionality of CHOMPACK is contained in two types of\n",
      "objects: the :py:class:`symbolic` object and the :py:class:`cspmatrix`\n",
      "(chordal sparse matrix) object. A :py:class:`symbolic` object\n",
      "represents a symbolic factorization of a sparse symmetric matrix\n",
      ":math:`A`, and it can be created as follows:\n"
     ]
    },
    {
     "cell_type": "code",
     "collapsed": false,
     "input": [
      "from cvxopt import spmatrix, amd\n",
      "import chompack as cp\n",
      "\n",
      "# generate sparse matrix\n",
      "I = [0, 1, 3, 1, 5, 2, 6, 3, 4, 5, 4, 5, 6, 5, 6]\n",
      "J = [0, 0, 0, 1, 1, 2, 2, 3, 3, 3, 4, 4, 4, 5, 6]\n",
      "A = spmatrix(1.0, I, J, (7,7))\n",
      "\n",
      "# compute symbolic factorization using AMD ordering\n",
      "symb = cp.symbolic(A, p=amd.order)"
     ],
     "language": "python",
     "metadata": {},
     "outputs": [],
     "prompt_number": 1
    },
    {
     "cell_type": "raw",
     "metadata": {},
     "source": [
      "\n",
      "The argument :math:`p` is a so-called elimination order, and it can\n",
      "be either an ordering routine or a permutation vector. In the above\n",
      "example we used the \"approximate minimum degree\" (AMD) ordering\n",
      "routine. Note that :math:`A` is a lower-triangular sparse matrix that represents a\n",
      "symmetric matrix; upper-triangular entries in :math:`A` are ignored in the\n",
      "symbolic factorization.\n",
      "\n",
      "Now let's inspect the sparsity pattern of `A` and its chordal\n",
      "embedding (i.e., the filled pattern):\n"
     ]
    },
    {
     "cell_type": "code",
     "collapsed": false,
     "input": [
      ">>> print(A)"
     ],
     "language": "python",
     "metadata": {},
     "outputs": [
      {
       "output_type": "stream",
       "stream": "stdout",
       "text": [
        "[ 1.00e+00     0         0         0         0         0         0    ]\n",
        "[ 1.00e+00  1.00e+00     0         0         0         0         0    ]\n",
        "[    0         0      1.00e+00     0         0         0         0    ]\n",
        "[ 1.00e+00     0         0      1.00e+00     0         0         0    ]\n",
        "[    0         0         0      1.00e+00  1.00e+00     0         0    ]\n",
        "[    0      1.00e+00     0      1.00e+00  1.00e+00  1.00e+00     0    ]\n",
        "[    0         0      1.00e+00     0      1.00e+00     0      1.00e+00]\n",
        "\n"
       ]
      }
     ],
     "prompt_number": 2
    },
    {
     "cell_type": "code",
     "collapsed": false,
     "input": [
      ">>> print(symb.sparsity_pattern(reordered=False, symmetric=False))"
     ],
     "language": "python",
     "metadata": {},
     "outputs": [
      {
       "output_type": "stream",
       "stream": "stdout",
       "text": [
        "[ 1.00e+00     0         0         0         0         0         0    ]\n",
        "[ 1.00e+00  1.00e+00     0         0         0         0         0    ]\n",
        "[    0         0      1.00e+00     0         0         0         0    ]\n",
        "[ 1.00e+00     0         0      1.00e+00     0         0         0    ]\n",
        "[    0         0         0      1.00e+00  1.00e+00     0         0    ]\n",
        "[ 1.00e+00  1.00e+00     0      1.00e+00  1.00e+00  1.00e+00     0    ]\n",
        "[    0         0      1.00e+00     0      1.00e+00     0      1.00e+00]\n",
        "\n"
       ]
      }
     ],
     "prompt_number": 3
    },
    {
     "cell_type": "raw",
     "metadata": {},
     "source": [
      "\n",
      "The reordered pattern and its cliques can be inspected using the\n",
      "following commands:\n"
     ]
    },
    {
     "cell_type": "code",
     "collapsed": false,
     "input": [
      ">>> print(symb)"
     ],
     "language": "python",
     "metadata": {},
     "outputs": [
      {
       "output_type": "stream",
       "stream": "stdout",
       "text": [
        "[X X          ]\n",
        "[X X X        ]\n",
        "[  X X   X X  ]\n",
        "[      X   X X]\n",
        "[    X   X X X]\n",
        "[    X X X X X]\n",
        "[      X X X X]\n",
        "\n"
       ]
      }
     ],
     "prompt_number": 4
    },
    {
     "cell_type": "code",
     "collapsed": false,
     "input": [
      ">>> print(symb.cliques())"
     ],
     "language": "python",
     "metadata": {},
     "outputs": [
      {
       "output_type": "stream",
       "stream": "stdout",
       "text": [
        "[[0, 1], [1, 2], [2, 4, 5], [3, 5, 6], [4, 5, 6]]\n"
       ]
      }
     ],
     "prompt_number": 5
    },
    {
     "cell_type": "raw",
     "metadata": {},
     "source": [
      "\n",
      "Similarly, the clique tree, the supernodes, and the separator sets are:\n"
     ]
    },
    {
     "cell_type": "code",
     "collapsed": false,
     "input": [
      ">>> print(symb.parent())"
     ],
     "language": "python",
     "metadata": {},
     "outputs": [
      {
       "output_type": "stream",
       "stream": "stdout",
       "text": [
        "[1, 2, 4, 4, 4]\n"
       ]
      }
     ],
     "prompt_number": 6
    },
    {
     "cell_type": "code",
     "collapsed": false,
     "input": [
      ">>> print(symb.supernodes())"
     ],
     "language": "python",
     "metadata": {},
     "outputs": [
      {
       "output_type": "stream",
       "stream": "stdout",
       "text": [
        "[[0], [1], [2], [3], [4, 5, 6]]\n"
       ]
      }
     ],
     "prompt_number": 7
    },
    {
     "cell_type": "code",
     "collapsed": false,
     "input": [
      ">>> print(symb.separators())"
     ],
     "language": "python",
     "metadata": {},
     "outputs": [
      {
       "output_type": "stream",
       "stream": "stdout",
       "text": [
        "[[1], [2], [4, 5], [5, 6], []]\n"
       ]
      }
     ],
     "prompt_number": 8
    },
    {
     "cell_type": "raw",
     "metadata": {},
     "source": [
      "\n",
      "The :py:class:`cspmatrix` object represents a chordal sparse matrix,\n",
      "and it contains lower-triangular numerical values as well as a\n",
      "reference to a symbolic factorization that defines the sparsity\n",
      "pattern. Given a :py:class:`symbolic` object `symb` and a sparse\n",
      "matrix :math:`A`, we can create a :py:class:`cspmatrix` as follows:\n"
     ]
    },
    {
     "cell_type": "code",
     "collapsed": false,
     "input": [
      "from cvxopt import spmatrix, amd, printing\n",
      "import chompack as cp\n",
      "printing.options['dformat'] = '%3.1f'\n",
      "\n",
      "# generate sparse matrix and compute symbolic factorization\n",
      "I = [0, 1, 3, 1, 5, 2, 6, 3, 4, 5, 4, 5, 6, 5, 6]\n",
      "J = [0, 0, 0, 1, 1, 2, 2, 3, 3, 3, 4, 4, 4, 5, 6]\n",
      "A = spmatrix([1.0*i for i in range(1,15+1)], I, J, (7,7))\n",
      "symb = cp.symbolic(A, p=amd.order)\n",
      "\n",
      "L = cp.cspmatrix(symb)\n",
      "L += A"
     ],
     "language": "python",
     "metadata": {},
     "outputs": [],
     "prompt_number": 9
    },
    {
     "cell_type": "raw",
     "metadata": {},
     "source": [
      "\n",
      "Now let us take a look at  :math:`A` and :math:`L`:\n"
     ]
    },
    {
     "cell_type": "code",
     "collapsed": false,
     "input": [
      ">>> print(A)"
     ],
     "language": "python",
     "metadata": {},
     "outputs": [
      {
       "output_type": "stream",
       "stream": "stdout",
       "text": [
        "[ 1.0  0    0    0    0    0    0  ]\n",
        "[ 2.0  4.0  0    0    0    0    0  ]\n",
        "[ 0    0    6.0  0    0    0    0  ]\n",
        "[ 3.0  0    0    8.0  0    0    0  ]\n",
        "[ 0    0    0    9.0 11.0  0    0  ]\n",
        "[ 0    5.0  0   10.0 12.0 14.0  0  ]\n",
        "[ 0    0    7.0  0   13.0  0   15.0]\n",
        "\n"
       ]
      }
     ],
     "prompt_number": 10
    },
    {
     "cell_type": "code",
     "collapsed": false,
     "input": [
      ">>> print(L)"
     ],
     "language": "python",
     "metadata": {},
     "outputs": [
      {
       "output_type": "stream",
       "stream": "stdout",
       "text": [
        "[ 6.0  0    0    0    0    0    0  ]\n",
        "[ 7.0 15.0  0    0    0    0    0  ]\n",
        "[ 0   13.0 11.0  0    0    0    0  ]\n",
        "[ 0    0    0    4.0  0    0    0  ]\n",
        "[ 0    0    9.0  0    8.0  0    0  ]\n",
        "[ 0    0   12.0  5.0 10.0 14.0  0  ]\n",
        "[ 0    0    0    2.0  3.0  0.0  1.0]\n",
        "\n"
       ]
      }
     ],
     "prompt_number": 11
    },
    {
     "cell_type": "raw",
     "metadata": {},
     "source": [
      "\n",
      "Notice that :math:`L` is a reordered lower-triangular representation\n",
      "of :math:`A`. We can convert :math:`L` to an :py:class:`spmatrix` using\n",
      "the `spmatrix()` method:\n"
     ]
    },
    {
     "cell_type": "code",
     "collapsed": false,
     "input": [
      ">>> print(L.spmatrix(reordered = False))"
     ],
     "language": "python",
     "metadata": {},
     "outputs": [
      {
       "output_type": "stream",
       "stream": "stdout",
       "text": [
        "[ 1.0  0    0    0    0    0    0  ]\n",
        "[ 2.0  4.0  0    0    0    0    0  ]\n",
        "[ 0    0    6.0  0    0    0    0  ]\n",
        "[ 3.0  0    0    8.0  0    0    0  ]\n",
        "[ 0    0    0    9.0 11.0  0    0  ]\n",
        "[ 0.0  5.0  0   10.0 12.0 14.0  0  ]\n",
        "[ 0    0    7.0  0   13.0  0   15.0]\n",
        "\n"
       ]
      }
     ],
     "prompt_number": 12
    },
    {
     "cell_type": "raw",
     "metadata": {},
     "source": [
      "\n",
      "This returns an :py:class:`spmatrix` with the same ordering\n",
      "as :math:`A`, i.e., the inverse permutation is applied to :math:`L`.\n",
      "\n",
      "The following example illustrates how to use the Cholesky routine:\n"
     ]
    },
    {
     "cell_type": "code",
     "collapsed": false,
     "input": [
      "from cvxopt import spmatrix, amd, normal\n",
      "from chompack import symbolic, cspmatrix, cholesky\n",
      "\n",
      "# generate sparse matrix and compute symbolic factorization\n",
      "I = [0, 1, 3, 1, 5, 2, 6, 3, 4, 5, 4, 5, 6, 5, 6]\n",
      "J = [0, 0, 0, 1, 1, 2, 2, 3, 3, 3, 4, 4, 4, 5, 6]\n",
      "A = spmatrix([0.1*(i+1) for i in range(15)], I, J, (7,7)) + spmatrix(10.0,range(7),range(7))\n",
      "symb = symbolic(A, p=amd.order)\n",
      "   \n",
      "# create cspmatrix \n",
      "L = cspmatrix(symb)\n",
      "L += A \n",
      "\n",
      "# compute numeric factorization\n",
      "cholesky(L)"
     ],
     "language": "python",
     "metadata": {},
     "outputs": [],
     "prompt_number": 13
    },
    {
     "cell_type": "code",
     "collapsed": false,
     "input": [
      ">>> print(L)"
     ],
     "language": "python",
     "metadata": {},
     "outputs": [
      {
       "output_type": "stream",
       "stream": "stdout",
       "text": [
        "[ 3.3  0    0    0    0    0    0  ]\n",
        "[ 0.2  3.4  0    0    0    0    0  ]\n",
        "[ 0    0.4  3.3  0    0    0    0  ]\n",
        "[ 0    0    0    3.2  0    0    0  ]\n",
        "[ 0    0    0.3  0    3.3  0    0  ]\n",
        "[ 0    0    0.4  0.2  0.3  3.3  0  ]\n",
        "[ 0    0    0    0.1  0.1 -0.0  3.2]\n",
        "\n"
       ]
      }
     ],
     "prompt_number": 14
    },
    {
     "cell_type": "raw",
     "metadata": {},
     "source": [
      "\n",
      "Given a sparse matrix :math:`A`, we can check if it is chordal by \n",
      "checking whether the permutation :math:`p` returned by maximum cardinality \n",
      "search is a perfect elimination ordering:\n"
     ]
    },
    {
     "cell_type": "code",
     "collapsed": false,
     "input": [
      "from cvxopt import spmatrix, printing\n",
      "printing.options['width'] = -1\n",
      "import chompack as cp\n",
      "   \n",
      "# Define chordal sparse matrix\n",
      "I = range(17)+[2,2,3,3,4,14,4,14,8,14,15,8,15,7,8,14,8,14,14,\\\n",
      "    15,10,12,13,16,12,13,16,12,13,15,16,13,15,16,15,16,15,16,16]\n",
      "J = range(17)+[0,1,1,2,2,2,3,3,4,4,4,5,5,6,6,6,7,7,8,\\\n",
      "    8,9,9,9,9,10,10,10,11,11,11,11,12,12,12,13,13,14,14,15]\n",
      "A = spmatrix(1.0,I,J,(17,17))\n",
      "\n",
      "# Compute maximum cardinality search \n",
      "p = cp.maxcardsearch(A)"
     ],
     "language": "python",
     "metadata": {},
     "outputs": [],
     "prompt_number": 15
    },
    {
     "cell_type": "raw",
     "metadata": {},
     "source": [
      "\n",
      "Is :math:`p` a perfect elimination ordering?\n"
     ]
    },
    {
     "cell_type": "code",
     "collapsed": false,
     "input": [
      ">>> cp.peo(A,p)"
     ],
     "language": "python",
     "metadata": {},
     "outputs": [
      {
       "metadata": {},
       "output_type": "pyout",
       "prompt_number": 16,
       "text": [
        "True"
       ]
      }
     ],
     "prompt_number": 16
    },
    {
     "cell_type": "raw",
     "metadata": {},
     "source": [
      "\n",
      "Let's verify that no fill is generated by the symbolic factorization:\n"
     ]
    },
    {
     "cell_type": "code",
     "collapsed": false,
     "input": [
      ">>> symb = cp.symbolic(A,p)\n",
      ">>> print(symb.fill)"
     ],
     "language": "python",
     "metadata": {},
     "outputs": [
      {
       "output_type": "stream",
       "stream": "stdout",
       "text": [
        "(0, 0)\n"
       ]
      }
     ],
     "prompt_number": 17
    }
   ],
   "metadata": {}
  }
 ]
}