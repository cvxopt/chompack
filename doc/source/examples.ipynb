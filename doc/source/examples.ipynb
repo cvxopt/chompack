{
 "metadata": {
  "name": "",
  "signature": "sha256:d65c61fdb9769e4abf782b6e7805bb99e941de79f2366aabe53e2df6ba64ee51"
 },
 "nbformat": 3,
 "nbformat_minor": 0,
 "worksheets": [
  {
   "cells": [
    {
     "cell_type": "markdown",
     "metadata": {},
     "source": [
      "Examples\n",
      "===================\n"
     ]
    },
    {
     "cell_type": "markdown",
     "metadata": {},
     "source": [
      "\n",
      "SDP conversion\n",
      "------------------\n"
     ]
    },
    {
     "cell_type": "markdown",
     "metadata": {},
     "source": [
      "\n",
      "This example demonstrates the SDP conversion method. We first generate a random sparse SDP: \n"
     ]
    },
    {
     "cell_type": "code",
     "collapsed": false,
     "input": [
      "\n",
      "from cvxopt import matrix, spmatrix, sparse, normal, solvers, blas\n",
      "import chompack as cp\n",
      "import random\n",
      "\n",
      "# Function for generating random sparse matrix\n",
      "def sp_rand(m,n,a):\n",
      "    \"\"\"\n",
      "    Generates an m-by-n sparse 'd' matrix with round(a*m*n) nonzeros.\n",
      "    \"\"\"\n",
      "    if m == 0 or n == 0: return spmatrix([], [], [], (m,n))\n",
      "    nnz = min(max(0, int(round(a*m*n))), m*n)\n",
      "    nz = matrix(random.sample(range(m*n), nnz), tc='i')\n",
      "    return spmatrix(normal(nnz,1), nz%m, nz/m, (m,n))\n",
      "\n",
      "# Generate random sparsity pattern and sparse SDP problem data\n",
      "random.seed(1)\n",
      "m, n = 50, 200\n",
      "A = sp_rand(n,n,0.015) + spmatrix(1.0,range(n),range(n))\n",
      "I = cp.tril(A)[:].I\n",
      "N = len(I)/50 # each data matrix has 1/50 of total nonzeros in pattern\n",
      "Ig = []; Jg = []\n",
      "for j in range(m):\n",
      "    Ig += sorted(random.sample(I,N))   \n",
      "    Jg += N*[j]\n",
      "G = spmatrix(normal(len(Ig),1),Ig,Jg,(n**2,m))\n",
      "h = G*normal(m,1) + spmatrix(1.0,range(n),range(n))[:]\n",
      "c = normal(m,1)\n",
      "dims =  {'l':0, 'q':[], 's': [n]};\n"
     ],
     "language": "python",
     "metadata": {},
     "outputs": [],
     "prompt_number": 59
    },
    {
     "cell_type": "markdown",
     "metadata": {},
     "source": [
      "\n",
      "The problem can be solved using CVXOPT's cone LP solver:\n"
     ]
    },
    {
     "cell_type": "code",
     "collapsed": false,
     "input": [
      "\n",
      "prob = (c, G, matrix(h), dims)\n",
      "sol = solvers.conelp(*prob)\n",
      "Z1 = matrix(sol['z'], (n,n))\n"
     ],
     "language": "python",
     "metadata": {},
     "outputs": [
      {
       "output_type": "stream",
       "stream": "stdout",
       "text": [
        "     pcost       dcost       gap    pres   dres   k/t\n",
        " 0: -1.0953e+01 -3.1500e+02  5e+02  5e-01  3e+00  1e+00\n",
        " 1: -1.8696e+01 -6.3814e+01  5e+01  7e-02  4e-01  8e-01"
       ]
      },
      {
       "output_type": "stream",
       "stream": "stdout",
       "text": [
        "\n",
        " 2: -2.3027e+01 -3.7585e+01  1e+01  2e-02  1e-01  2e-01"
       ]
      },
      {
       "output_type": "stream",
       "stream": "stdout",
       "text": [
        "\n",
        " 3: -2.3052e+01 -3.3827e+01  1e+01  2e-02  1e-01  1e-01"
       ]
      },
      {
       "output_type": "stream",
       "stream": "stdout",
       "text": [
        "\n",
        " 4: -2.3718e+01 -2.6062e+01  2e+00  4e-03  2e-02  3e-02"
       ]
      },
      {
       "output_type": "stream",
       "stream": "stdout",
       "text": [
        "\n",
        " 5: -2.3700e+01 -2.5631e+01  2e+00  3e-03  2e-02  2e-02"
       ]
      },
      {
       "output_type": "stream",
       "stream": "stdout",
       "text": [
        "\n",
        " 6: -2.3763e+01 -2.4181e+01  4e-01  7e-04  4e-03  4e-03"
       ]
      },
      {
       "output_type": "stream",
       "stream": "stdout",
       "text": [
        "\n",
        " 7: -2.3766e+01 -2.3869e+01  1e-01  2e-04  1e-03  6e-04"
       ]
      },
      {
       "output_type": "stream",
       "stream": "stdout",
       "text": [
        "\n",
        " 8: -2.3766e+01 -2.3793e+01  3e-02  4e-05  3e-04  1e-04"
       ]
      },
      {
       "output_type": "stream",
       "stream": "stdout",
       "text": [
        "\n",
        " 9: -2.3766e+01 -2.3771e+01  5e-03  8e-06  5e-05  2e-05"
       ]
      },
      {
       "output_type": "stream",
       "stream": "stdout",
       "text": [
        "\n",
        "10: -2.3766e+01 -2.3767e+01  7e-04  1e-06  7e-06  4e-06"
       ]
      },
      {
       "output_type": "stream",
       "stream": "stdout",
       "text": [
        "\n",
        "11: -2.3766e+01 -2.3766e+01  3e-05  4e-08  3e-07  1e-07"
       ]
      },
      {
       "output_type": "stream",
       "stream": "stdout",
       "text": [
        "\n",
        "12: -2.3766e+01 -2.3766e+01  2e-06  4e-09  2e-08  1e-08"
       ]
      },
      {
       "output_type": "stream",
       "stream": "stdout",
       "text": [
        "\n",
        "Optimal solution found.\n"
       ]
      }
     ],
     "prompt_number": 60
    },
    {
     "cell_type": "markdown",
     "metadata": {},
     "source": [
      "\n",
      "An alternative is to convert the sparse SDP into a block-diagonal SDP using the conversion method and solve the converted problem using CVXOPT:\n"
     ]
    },
    {
     "cell_type": "code",
     "collapsed": false,
     "input": [
      "\n",
      "prob2, blocks_to_sparse, symbs = cp.convert_conelp(*prob)\n",
      "sol2 = solvers.conelp(*prob2) \n"
     ],
     "language": "python",
     "metadata": {},
     "outputs": [
      {
       "output_type": "stream",
       "stream": "stdout",
       "text": [
        "     pcost       dcost       gap    pres   dres   k/t\n",
        " 0: -1.0507e+01 -3.1252e+02  9e+02  8e-01  3e+00  1e+00\n",
        " 1: -1.7922e+01 -6.5004e+01  6e+01  1e-01  4e-01  2e+00"
       ]
      },
      {
       "output_type": "stream",
       "stream": "stdout",
       "text": [
        "\n",
        " 2: -2.1583e+01 -4.5680e+01  3e+01  6e-02  2e-01  7e-01"
       ]
      },
      {
       "output_type": "stream",
       "stream": "stdout",
       "text": [
        "\n",
        " 3: -2.3019e+01 -2.8139e+01  6e+00  1e-02  5e-02  1e-01"
       ]
      },
      {
       "output_type": "stream",
       "stream": "stdout",
       "text": [
        "\n",
        " 4: -2.3438e+01 -2.5218e+01  2e+00  5e-03  2e-02  4e-02"
       ]
      },
      {
       "output_type": "stream",
       "stream": "stdout",
       "text": [
        "\n",
        " 5: -2.3684e+01 -2.4060e+01  4e-01  1e-03  4e-03  6e-03"
       ]
      },
      {
       "output_type": "stream",
       "stream": "stdout",
       "text": [
        "\n",
        " 6: -2.3740e+01 -2.3836e+01  1e-01  2e-04  9e-04  9e-04"
       ]
      },
      {
       "output_type": "stream",
       "stream": "stdout",
       "text": [
        "\n",
        " 7: -2.3759e+01 -2.3783e+01  3e-02  6e-05  2e-04  1e-04"
       ]
      },
      {
       "output_type": "stream",
       "stream": "stdout",
       "text": [
        "\n",
        " 8: -2.3764e+01 -2.3769e+01  5e-03  1e-05  5e-05  2e-05"
       ]
      },
      {
       "output_type": "stream",
       "stream": "stdout",
       "text": [
        "\n",
        " 9: -2.3766e+01 -2.3767e+01  1e-03  3e-06  1e-05  4e-06"
       ]
      },
      {
       "output_type": "stream",
       "stream": "stdout",
       "text": [
        "\n",
        "10: -2.3766e+01 -2.3766e+01  3e-04  6e-07  2e-06  7e-07"
       ]
      },
      {
       "output_type": "stream",
       "stream": "stdout",
       "text": [
        "\n",
        "11: -2.3766e+01 -2.3766e+01  3e-05  7e-08  2e-07  7e-08"
       ]
      },
      {
       "output_type": "stream",
       "stream": "stdout",
       "text": [
        "\n",
        "12: -2.3766e+01 -2.3766e+01  7e-06  2e-08  6e-08  2e-08"
       ]
      },
      {
       "output_type": "stream",
       "stream": "stdout",
       "text": [
        "\n",
        "Optimal solution found.\n"
       ]
      }
     ],
     "prompt_number": 61
    },
    {
     "cell_type": "markdown",
     "metadata": {},
     "source": [
      "\n",
      "The solution to the original SDP can be found by mapping the block-diagonal solution to a sparse positive semidefinite completable matrix and computing a positive semidefinite completion:\n"
     ]
    },
    {
     "cell_type": "code",
     "collapsed": false,
     "input": [
      "\n",
      "# Map block-diagonal solution sol2['z'] to a sparse positive semidefinite completable matrix\n",
      "blki,I,J,bn = blocks_to_sparse[0]\n",
      "Z2 = spmatrix(sol2['z'][blki],I,J)\n",
      "\n",
      "# Compute completion \n",
      "symb = cp.symbolic(Z2, p=cp.maxcardsearch)\n",
      "Z2c = cp.psdcompletion(cp.cspmatrix(symb)+Z2, reordered=False)\n"
     ],
     "language": "python",
     "metadata": {},
     "outputs": [],
     "prompt_number": 62
    },
    {
     "cell_type": "markdown",
     "metadata": {},
     "source": [
      "\n",
      "The conversion can also be combined with clique-merging techniques in the symbolic factorization. This typically yields a block-diagonal SDP with fewer (but bigger) blocks than without clique-merging:\n"
     ]
    },
    {
     "cell_type": "code",
     "collapsed": false,
     "input": [
      "\n",
      "mf = cp.merge_size_fill(5,5)\n",
      "prob3, blocks_to_sparse, symbs = chompack.convert_conelp(*prob, coupling = 'full', merge_function = mf)\n",
      "sol3 = solvers.conelp(*prob3) \n"
     ],
     "language": "python",
     "metadata": {},
     "outputs": [
      {
       "output_type": "stream",
       "stream": "stdout",
       "text": [
        "     pcost       dcost       gap    pres   dres   k/t\n",
        " 0: -1.0566e+01 -3.1250e+02  6e+02  6e-01  3e+00  1e+00\n",
        " 1: -1.7841e+01 -7.0230e+01  6e+01  1e-01  5e-01  1e+00"
       ]
      },
      {
       "output_type": "stream",
       "stream": "stdout",
       "text": [
        "\n",
        " 2: -2.2301e+01 -4.0449e+01  2e+01  4e-02  2e-01  3e-01"
       ]
      },
      {
       "output_type": "stream",
       "stream": "stdout",
       "text": [
        "\n",
        " 3: -2.3170e+01 -2.9548e+01  6e+00  1e-02  6e-02  1e-01\n",
        " 4: -2.3608e+01 -2.4991e+01  1e+00  3e-03  1e-02  1e-02"
       ]
      },
      {
       "output_type": "stream",
       "stream": "stdout",
       "text": [
        "\n",
        " 5: -2.3715e+01 -2.4159e+01  4e-01  9e-04  4e-03  4e-03\n",
        " 6: -2.3756e+01 -2.3833e+01  8e-02  2e-04  7e-04  5e-04"
       ]
      },
      {
       "output_type": "stream",
       "stream": "stdout",
       "text": [
        "\n",
        " 7: -2.3764e+01 -2.3777e+01  1e-02  2e-05  1e-04  6e-05\n",
        " 8: -2.3765e+01 -2.3769e+01  4e-03  8e-06  4e-05  2e-05"
       ]
      },
      {
       "output_type": "stream",
       "stream": "stdout",
       "text": [
        "\n",
        " 9: -2.3766e+01 -2.3766e+01  4e-04  8e-07  4e-06  2e-06\n",
        "10: -2.3766e+01 -2.3766e+01  1e-04  2e-07  1e-06  4e-07"
       ]
      },
      {
       "output_type": "stream",
       "stream": "stdout",
       "text": [
        "\n",
        "11: -2.3766e+01 -2.3766e+01  8e-06  2e-08  7e-08  3e-08\n",
        "Optimal solution found."
       ]
      },
      {
       "output_type": "stream",
       "stream": "stdout",
       "text": [
        "\n"
       ]
      }
     ],
     "prompt_number": 63
    },
    {
     "cell_type": "markdown",
     "metadata": {},
     "source": [
      "\n",
      "Finally, we recover the solution to the original SDP:"
     ]
    },
    {
     "cell_type": "code",
     "collapsed": false,
     "input": [
      "\n",
      "# Map block-diagonal solution sol2['z'] to a sparse positive semidefinite completable matrix\n",
      "blki,I,J,bn = blocks_to_sparse[0]\n",
      "Z3 = spmatrix(sol3['z'][blki],I,J)\n",
      "\n",
      "# Compute completion \n",
      "symb = cp.symbolic(Z3, p=cp.maxcardsearch)\n",
      "Z3c = cp.psdcompletion(cp.cspmatrix(symb)+Z3, reordered=False)\n"
     ],
     "language": "python",
     "metadata": {},
     "outputs": [],
     "prompt_number": 64
    },
    {
     "cell_type": "markdown",
     "metadata": {},
     "source": [
      "\n",
      "Euclidean distance matrix completion\n",
      "------------------------------------"
     ]
    },
    {
     "cell_type": "markdown",
     "metadata": {},
     "source": [
      "    \n",
      "Suppose that $A$ is a partial EDM of order $n$ where the squared distance $A_{ij} = \\| p_i - p_j \\|_2^2$ between two point $p_i$ and $p_j$ is known if $p_i$ and $p_j$ are sufficiently close. We will assume that $A_{ij}$ is known if and only if\n",
      " $$\\| p_i - p_j \\|_2^2 \\leq \\delta $$\n",
      "where $\\delta$ is a positive constant. Let us generate a random partial EDM based on points in $\\mathbb{R}^2$:\n"
     ]
    },
    {
     "cell_type": "code",
     "collapsed": false,
     "input": [
      "\n",
      "from cvxopt import uniform, spmatrix, matrix\n",
      "import chompack as cp\n",
      "\n",
      "d = 2              # dimension\n",
      "n = 100            # number of points (order of A)\n",
      "delta = 0.15**2    # distance threshold\n",
      "\n",
      "P = uniform(d,n)   # generate n points with independent and uniformly distributed coordinates\n",
      "Y = P.T*P          # Gram matrix\n",
      "\n",
      "# Compute true distances:  At[i,j] = norm(P[:,i]-P[:,j])**2\n",
      "#   At = diag(Y)*ones(1,n) + ones(n,1)*diag(Y).T - 2*Y\n",
      "At = Y[::n+1]*matrix(1.0,(1,n)) + matrix(1.0,(n,1))*Y[::n+1].T - 2*Y\n",
      "\n",
      "# Generate matrix with \"observable distances\"\n",
      "#   A[i,j] = At[i,j] if At[i,j] <= delta\n",
      "V,I,J = zip(*[(At[i,j],i,j) for j in range(n) for i in range(j,n) if At[i,j] <= delta])\n",
      "A = spmatrix(V,I,J,(n,n))\n"
     ],
     "language": "python",
     "metadata": {},
     "outputs": [],
     "prompt_number": 1
    },
    {
     "cell_type": "markdown",
     "metadata": {},
     "source": [
      "\n",
      "The partial EDM $A$ may or may not be chordal. We can find a maximal chordal subgraph using the `maxchord` routine which returns a chordal matrix $A_{\\mathrm{c}}$ and a perfect elimination order $p$. Note that if $A$ is chordal, then $A_{\\mathrm{c}} = A$.\n"
     ]
    },
    {
     "cell_type": "code",
     "collapsed": false,
     "input": [
      "\n",
      "Ac,p = cp.maxchord(A)\n"
     ],
     "language": "python",
     "metadata": {},
     "outputs": [],
     "prompt_number": 2
    },
    {
     "cell_type": "markdown",
     "metadata": {},
     "source": [
      "\n",
      "The points $p_i$ and the known distances can be visualized using Matplotlib:\n"
     ]
    },
    {
     "cell_type": "code",
     "collapsed": false,
     "input": [
      "\n",
      "from pylab import plot,xlim,ylim,gca\n",
      "\n",
      "# Extract entries in Ac and entries dropped from A\n",
      "IJc = zip(Ac.I,Ac.J)\n",
      "tmp = A - Ac\n",
      "IJd = [(i,j) for i,j,v in zip(tmp.I,tmp.J,tmp.V) if v > 0]\n",
      "\n",
      "# Plot edges\n",
      "for i,j in IJc:    \n",
      "    if i > j: plot([P[0,i],P[0,j]],[P[1,i],P[1,j]],'k-')\n",
      "for i,j in IJd:\n",
      "    if i > j: plot([P[0,i],P[0,j]],[P[1,i],P[1,j]],'r-')\n",
      "\n",
      "# Plot points\n",
      "plot(P[0,:].T,P[1,:].T, 'b.', ms=12)\n",
      "xlim([0.,1.])\n",
      "ylim([0.,1.])\n",
      "gca().set_aspect('equal')\n"
     ],
     "language": "python",
     "metadata": {},
     "outputs": [
      {
       "metadata": {},
       "output_type": "display_data",
       "png": "[encoded data removed]",
       "text": [
        "<matplotlib.figure.Figure at 0x105723910>"
       ]
      }
     ],
     "prompt_number": 3
    },
    {
     "cell_type": "markdown",
     "metadata": {},
     "source": [
      "\n",
      "The edges represent known distances. The red edges are edges that were removed to produce the maximal chordal subgraph, and  the black edges are the edges of the chordal subgraph.\n"
     ]
    },
    {
     "cell_type": "markdown",
     "metadata": {},
     "source": [
      "\n",
      "Next we compute a symbolic factorization of the chordal matrix $A_{\\mathrm{c}}$ using the perfect elimination order $p$:\n"
     ]
    },
    {
     "cell_type": "code",
     "collapsed": false,
     "input": [
      "\n",
      "symb = cp.symbolic(Ac, p=p)\n",
      "p = symb.p\n"
     ],
     "language": "python",
     "metadata": {},
     "outputs": [],
     "prompt_number": 4
    },
    {
     "cell_type": "markdown",
     "metadata": {},
     "source": [
      "\n",
      "Now `edmcompletion` can be used to compute an EDM completion of the chordal matrix $A_{\\mathrm{c}}$:\n"
     ]
    },
    {
     "cell_type": "code",
     "collapsed": false,
     "input": [
      "\n",
      "X = cp.edmcompletion(cp.cspmatrix(symb)+Ac, reordered = False)\n"
     ],
     "language": "python",
     "metadata": {},
     "outputs": [],
     "prompt_number": 5
    },
    {
     "cell_type": "markdown",
     "metadata": {},
     "source": [
      "\n",
      "Symbolic factorization\n",
      "----------------------------------\n"
     ]
    },
    {
     "cell_type": "markdown",
     "metadata": {},
     "source": [
      "\n",
      "This example demonstrates the symbolic factorization. We start by generating a test problem and computing a symbolic factorization using the approximate minimum degree (AMD) ordering heuristic:\n"
     ]
    },
    {
     "cell_type": "code",
     "collapsed": false,
     "input": [
      "\n",
      "import chompack as cp\n",
      "from cvxopt import spmatrix, amd\n",
      "\n",
      "L = [[0,2,3,4,14],[1,2,3],[2,3,4,14],[3,4,14],[4,8,14,15],[5,8,15],[6,7,8,14],[7,8,14],[8,14,15],[9,10,12,13,16],[10,12,13,16],[11,12,13,15,16],[12,13,15,16],[13,15,16],[14,15,16],[15,16],[16]]\n",
      "I = []\n",
      "J = []\n",
      "for k,l in enumerate(L):\n",
      "    I.extend(l)\n",
      "    J.extend(len(l)*[k])\n",
      "    \n",
      "A = spmatrix(1.0,I,J,(17,17))\n",
      "symb = cp.symbolic(A, p=amd.order)\n"
     ],
     "language": "python",
     "metadata": {},
     "outputs": [],
     "prompt_number": 6
    },
    {
     "cell_type": "markdown",
     "metadata": {},
     "source": [
      "\n",
      "The sparsity graph can be visualized with the `sparsity_graph` routine if Matplotlib, NetworkX, and Graphviz are installed:\n"
     ]
    },
    {
     "cell_type": "code",
     "collapsed": false,
     "input": [
      "\n",
      "from chompack.pybase.plot import sparsity_graph\n",
      "sparsity_graph(symb, node_size=50, with_labels=False)\n"
     ],
     "language": "python",
     "metadata": {},
     "outputs": [
      {
       "metadata": {},
       "output_type": "display_data",
       "png": "[encoded data removed]",
       "text": [
        "<matplotlib.figure.Figure at 0x1055f3ed0>"
       ]
      }
     ],
     "prompt_number": 7
    },
    {
     "cell_type": "markdown",
     "metadata": {},
     "source": [
      "\n",
      "The `sparsity_graph` routine passes all optional keyword arguments to NetworkX to make it easy to customize the visualization.\n",
      "\n",
      "It is also possible to visualize the sparsity pattern using the `spy` routine which requires the packages Matplotlib, Numpy, and Scipy:\n"
     ]
    },
    {
     "cell_type": "code",
     "collapsed": false,
     "input": [
      "\n",
      "from chompack.pybase.plot import spy\n",
      "fig = spy(symb, reordered=True)\n"
     ],
     "language": "python",
     "metadata": {},
     "outputs": [
      {
       "metadata": {},
       "output_type": "display_data",
       "png": "[encoded data removed]",
       "text": [
        "<matplotlib.figure.Figure at 0x1057b0290>"
       ]
      }
     ],
     "prompt_number": 8
    },
    {
     "cell_type": "markdown",
     "metadata": {},
     "source": [
      "\n",
      "The supernodes and the supernodal elimination tree can be extracted from the symbolic factorization as follows:\n"
     ]
    },
    {
     "cell_type": "code",
     "collapsed": false,
     "input": [
      "\n",
      "par = symb.parent()\n",
      "snodes = symb.supernodes()\n",
      "\n",
      "print \"Id  Parent id  Supernode\"\n",
      "for k,sk in enumerate(snodes):\n",
      "    print \"%2i     %2i     \"%(k,par[k]), sk\n",
      "    "
     ],
     "language": "python",
     "metadata": {},
     "outputs": [
      {
       "output_type": "stream",
       "stream": "stdout",
       "text": [
        "Id  Parent id  Supernode\n",
        " 0      4      [0]\n",
        " 1      2      [1]\n",
        " 2      4      [2, 3, 4]\n",
        " 3      4      [5, 6]\n",
        " 4      5      [7, 8]\n",
        " 5      7      [9]\n",
        " 6      7      [10, 11]\n",
        " 7      7      [12, 13, 14, 15, 16]\n"
       ]
      }
     ],
     "prompt_number": 9
    },
    {
     "cell_type": "markdown",
     "metadata": {},
     "source": [
      "\n",
      "The supernodal elimination tree can be visualized with the `etree_graph` routine if Matplotlib, NetworkX, and Graphviz are installed:\n"
     ]
    },
    {
     "cell_type": "code",
     "collapsed": false,
     "input": [
      "\n",
      "from chompack.pybase.plot import etree_graph\n",
      "etree_graph(symb, with_labels=True, arrows=False, node_size=500, node_color='w', node_shape='s', font_size=14)\n"
     ],
     "language": "python",
     "metadata": {},
     "outputs": [
      {
       "metadata": {},
       "output_type": "display_data",
       "png": "[encoded data removed]",
       "text": [
        "<matplotlib.figure.Figure at 0x105847d50>"
       ]
      }
     ],
     "prompt_number": 10
    }
   ],
   "metadata": {}
  }
 ]
}