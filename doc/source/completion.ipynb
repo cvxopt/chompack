{
 "metadata": {
  "name": "",
  "signature": "sha256:cb4be8414d884bb92a4ce5d717aafd92bf6e4e4ae244c549f5ea0e228961966f"
 },
 "nbformat": 3,
 "nbformat_minor": 0,
 "worksheets": [
  {
   "cells": [
    {
     "cell_type": "code",
     "collapsed": false,
     "input": [
      "import chompack as cp\n",
      "from cvxopt import spmatrix, matrix, printing, lapack\n",
      "printing.options['width'] = 18"
     ],
     "language": "python",
     "metadata": {},
     "outputs": [],
     "prompt_number": 13
    },
    {
     "cell_type": "code",
     "collapsed": false,
     "input": [
      "L = [[0,2,3,4,14],[1,2,3],[2,3,4,14],[3,4,14],[4,8,14,15],[5,8,15],[6,7,8,14],[7,8,14],[8,14,15],[9,10,12,13,16],[10,12,13,16],[11,12,13,15,16],[12,13,15,16],[13,15,16],[14,15,16],[15,16],[16]]\n",
      "I = []\n",
      "J = []\n",
      "for k,l in enumerate(L):\n",
      "    I.extend(l)\n",
      "    J.extend(len(l)*[k])\n",
      "    \n",
      "A = spmatrix(1.0,I,J,(17,17))\n",
      "#mf = cp.merge_size_fill(tfill = 2, tsize = 2)\n",
      "mf = None\n",
      "symb = cp.symbolic(A, merge_function = mf)\n",
      "print symb"
     ],
     "language": "python",
     "metadata": {},
     "outputs": [
      {
       "output_type": "stream",
       "stream": "stdout",
       "text": [
        "[X X                       X X   X]\n",
        "[X X                       X X   X]\n",
        "[    X   X X                      ]\n",
        "[      X X X       X   X          ]\n",
        "[    X X X X       X   X          ]\n",
        "[    X X X X       X   X          ]\n",
        "[            X       X         X  ]\n",
        "[              X X   X X          ]\n",
        "[              X X   X X          ]\n",
        "[      X X X       X X X       X  ]\n",
        "[            X X X X X X       X  ]\n",
        "[      X X X   X X X X X       X X]\n",
        "[                        X X X X X]\n",
        "[X X                     X X X X X]\n",
        "[X X                     X X X X X]\n",
        "[            X     X X X X X X X X]\n",
        "[X X                   X X X X X X]\n",
        "\n"
       ]
      }
     ],
     "prompt_number": 14
    },
    {
     "cell_type": "code",
     "collapsed": false,
     "input": [
      "print \"Id Parent Supernode\"\n",
      "for k,sk in enumerate(symb.supernodes()):\n",
      "    print \"%2i  %2i   \"%(k,symb.snpar[k]),sk"
     ],
     "language": "python",
     "metadata": {},
     "outputs": [
      {
       "output_type": "stream",
       "stream": "stdout",
       "text": [
        "Id Parent Supernode\n",
        " 0   7    [0, 1]\n",
        " 1   2    [2]\n",
        " 2   5    [3, 4, 5]\n",
        " 3   5    [6]\n",
        " 4   5    [7, 8]\n",
        " 5   6    [9, 10]\n",
        " 6   7    [11]\n",
        " 7  -1    [12, 13, 14, 15, 16]\n"
       ]
      }
     ],
     "prompt_number": 15
    },
    {
     "cell_type": "code",
     "collapsed": false,
     "input": [
      "At = cp.cspmatrix(symb) + A + spmatrix(1.0,range(symb.n),range(symb.n))\n",
      "X = cp.psdcompletion(At)"
     ],
     "language": "python",
     "metadata": {},
     "outputs": [],
     "prompt_number": 16
    },
    {
     "cell_type": "code",
     "collapsed": false,
     "input": [
      "imshow(X, interpolation = 'nearest')\n",
      "colorbar()"
     ],
     "language": "python",
     "metadata": {},
     "outputs": [
      {
       "metadata": {},
       "output_type": "pyout",
       "prompt_number": 17,
       "text": [
        "<matplotlib.colorbar.Colorbar instance at 0x10df9b320>"
       ]
      },
      {
       "metadata": {},
       "output_type": "display_data",
       "png": "[encoded data removed]",
       "text": [
        "<matplotlib.figure.Figure at 0x10dd8db10>"
       ]
      }
     ],
     "prompt_number": 17
    },
    {
     "cell_type": "code",
     "collapsed": false,
     "input": [
      "imshow(matrix(At.spmatrix(symmetric=True)), interpolation = 'nearest')\n",
      "colorbar()"
     ],
     "language": "python",
     "metadata": {},
     "outputs": [
      {
       "metadata": {},
       "output_type": "pyout",
       "prompt_number": 12,
       "text": [
        "<matplotlib.colorbar.Colorbar instance at 0x10dd6e5f0>"
       ]
      },
      {
       "metadata": {},
       "output_type": "display_data",
       "png": "[encoded data removed]",
       "text": [
        "<matplotlib.figure.Figure at 0x10db83310>"
       ]
      }
     ],
     "prompt_number": 12
    }
   ],
   "metadata": {}
  }
 ]
}